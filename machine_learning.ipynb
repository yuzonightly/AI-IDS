{
  "nbformat": 4,
  "nbformat_minor": 0,
  "metadata": {
    "colab": {
      "name": "machine_learning.ipynb",
      "provenance": [],
      "authorship_tag": "ABX9TyNQONrebCLIU8cNVSfxzabj",
      "include_colab_link": true
    },
    "kernelspec": {
      "name": "python3",
      "display_name": "Python 3"
    },
    "language_info": {
      "name": "python"
    }
  },
  "cells": [
    {
      "cell_type": "markdown",
      "metadata": {
        "id": "view-in-github",
        "colab_type": "text"
      },
      "source": [
        "<a href=\"https://colab.research.google.com/github/yuzonightly/AI-IDS/blob/main/machine_learning.ipynb\" target=\"_parent\"><img src=\"https://colab.research.google.com/assets/colab-badge.svg\" alt=\"Open In Colab\"/></a>"
      ]
    },
    {
      "cell_type": "markdown",
      "metadata": {
        "id": "sXjaM1atSadE"
      },
      "source": [
        "# Artificial Inteligence\n",
        "\n",
        "Machine learning stuff (CSS229). Artifacts: notebook (handwritten) and Google Colab."
      ]
    },
    {
      "cell_type": "markdown",
      "metadata": {
        "id": "sFWaM4S_TZVZ"
      },
      "source": [
        "## Problem Set 0"
      ]
    },
    {
      "cell_type": "markdown",
      "metadata": {
        "id": "FD2Nc0YmHdl_"
      },
      "source": [
        "## Problem Set 1"
      ]
    },
    {
      "cell_type": "markdown",
      "metadata": {
        "id": "DJri4wgKHiFR"
      },
      "source": [
        "## Problem Set 2"
      ]
    },
    {
      "cell_type": "markdown",
      "metadata": {
        "id": "pg4xNLoDHlkA"
      },
      "source": [
        "## Problem Set 3"
      ]
    },
    {
      "cell_type": "markdown",
      "metadata": {
        "id": "vY87wFHSHnGq"
      },
      "source": [
        "## Problem Set 4"
      ]
    }
  ]
}