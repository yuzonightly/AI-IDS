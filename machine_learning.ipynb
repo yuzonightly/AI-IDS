{
  "nbformat": 4,
  "nbformat_minor": 0,
  "metadata": {
    "colab": {
      "name": "machine_learning.ipynb",
      "provenance": [],
      "authorship_tag": "ABX9TyNLaQGAw8qejsgBdwiiqlHj",
      "include_colab_link": true
    },
    "kernelspec": {
      "name": "python3",
      "display_name": "Python 3"
    },
    "language_info": {
      "name": "python"
    }
  },
  "cells": [
    {
      "cell_type": "markdown",
      "metadata": {
        "id": "view-in-github",
        "colab_type": "text"
      },
      "source": [
        "<a href=\"https://colab.research.google.com/github/yuzonightly/AI-IDS/blob/main/machine_learning.ipynb\" target=\"_parent\"><img src=\"https://colab.research.google.com/assets/colab-badge.svg\" alt=\"Open In Colab\"/></a>"
      ]
    },
    {
      "cell_type": "markdown",
      "metadata": {
        "id": "sXjaM1atSadE"
      },
      "source": [
        "# Artificial Inteligence\n",
        "\n",
        "Machine learning stuff."
      ]
    },
    {
      "cell_type": "markdown",
      "metadata": {
        "id": "sFWaM4S_TZVZ"
      },
      "source": [
        "## Title"
      ]
    },
    {
      "cell_type": "code",
      "metadata": {
        "id": "qAzMm2OsStHV"
      },
      "source": [
        "import numpy as np\n",
        "\n",
        "\n"
      ],
      "execution_count": null,
      "outputs": []
    }
  ]
}