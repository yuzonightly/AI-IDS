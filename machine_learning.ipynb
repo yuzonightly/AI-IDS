{
  "nbformat": 4,
  "nbformat_minor": 0,
  "metadata": {
    "colab": {
      "name": "machine_learning.ipynb",
      "provenance": [],
      "toc_visible": true,
      "authorship_tag": "ABX9TyNaYbqIxMXhkqYyzcwX7uNk",
      "include_colab_link": true
    },
    "kernelspec": {
      "name": "python3",
      "display_name": "Python 3"
    },
    "language_info": {
      "name": "python"
    }
  },
  "cells": [
    {
      "cell_type": "markdown",
      "metadata": {
        "id": "view-in-github",
        "colab_type": "text"
      },
      "source": [
        "<a href=\"https://colab.research.google.com/github/yuzonightly/AI-IDS/blob/main/machine_learning.ipynb\" target=\"_parent\"><img src=\"https://colab.research.google.com/assets/colab-badge.svg\" alt=\"Open In Colab\"/></a>"
      ]
    },
    {
      "cell_type": "markdown",
      "metadata": {
        "id": "sXjaM1atSadE"
      },
      "source": [
        "# Artificial Inteligence\n",
        "\n",
        "Tools:\n",
        "\n",
        "- Google Colab."
      ]
    },
    {
      "cell_type": "markdown",
      "metadata": {
        "id": "-PTWk4VawwhK"
      },
      "source": [
        "## Matrix"
      ]
    },
    {
      "cell_type": "markdown",
      "metadata": {
        "id": "HUu6UpyFLood"
      },
      "source": [
        "### The Trace\n",
        "\n",
        "Sum of the diagonal elements in the matrix:\n",
        "\n",
        "$$trA = \\sum^{n}_{i=1}A_{ii}$$"
      ]
    },
    {
      "cell_type": "markdown",
      "metadata": {
        "id": "owKC7P4WMMIV"
      },
      "source": [
        "### Norms\n",
        "\n",
        "The norm of a vector $||x||$ is a measure of the \"length\" of the vector. $\\ell_{2}$:\n",
        "\n",
        "$$||x||_{2} = \\sqrt{\\sum^{n}_{i=1}x^{2}_ {i}}$$\n",
        "\n",
        "$\\ell$\n",
        "\n",
        "$$ $$"
      ]
    }
  ]
}